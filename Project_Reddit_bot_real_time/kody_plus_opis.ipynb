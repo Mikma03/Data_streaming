{
 "cells": [
  {
   "cell_type": "markdown",
   "metadata": {},
   "source": [
    "# Spis tresci\n",
    "\n",
    "1. [Opis problemu](#Opis-problemu)\n",
    "\n",
    "2. [Instrukcja](#Instrukcja)\n",
    "\n",
    "3. [Kod Pythonowy](#Kod-Pythonowy)\n",
    "\n",
    "4. [Dalsze zalecenia](#Dalsze-zalecenia)\n"
   ]
  },
  {
   "cell_type": "markdown",
   "metadata": {},
   "source": [
    "# Opis problemu"
   ]
  },
  {
   "cell_type": "markdown",
   "metadata": {},
   "source": [
    "Rynek NFT rozwija sie w bardzo szybkim tempie. Wiele osob moze na tym skorzystac: zarowno tworcy jak i nabywcy. \n",
    "Przeanalizujmy prosty przyklad. Poczatkujacy tworca nie wie czy jego NFT beda warte miliony w przyszlosci ale podejmuje to ryzyko aby wystawic swoja kolekcje. \n",
    "Oczywista droga promocji swojej kolekcji jest rozdawanie za darmo czesci kolekcji.\n",
    "Powstaje pytanie dlaczego ktos chcialby rozdac cos za darmo... Odpowiedz jest prosta, aby przycignac jak najwiecej ludzi do swojego dziela. \n",
    "Powszechne jest udostepnianie swoich dziel na Twitterze oraz Discordzie. \n",
    "Silna spolecznosci zgormadzona wokol jakiegos NFT daje nam potencjal na przyszle astronomiczne zyski zwiazane z kolekcja."
   ]
  },
  {
   "cell_type": "markdown",
   "metadata": {},
   "source": [
    "# Instrukcja"
   ]
  },
  {
   "cell_type": "markdown",
   "metadata": {},
   "source": [
    "Aby skorzystac z mozliwosci zbudowanego bota należy posiadać pare kont:\n",
    "\n",
    "- MetaMask\n",
    "\n",
    "- Opensea lub inna platforma NFT\n",
    "\n",
    "- Reddit\n",
    "\n",
    "Wszytkie niezbedne kroki ktore trzeba podjac opisalem dokladnie w pliku: step_by_step_instruction"
   ]
  },
  {
   "cell_type": "markdown",
   "metadata": {},
   "source": [
    "# Kod Pythonowy"
   ]
  },
  {
   "cell_type": "code",
   "execution_count": null,
   "metadata": {},
   "outputs": [],
   "source": [
    "import praw\n",
    "from urllib.parse import quote_plus\n",
    "import datetime\n",
    "import time"
   ]
  },
  {
   "cell_type": "code",
   "execution_count": null,
   "metadata": {},
   "outputs": [],
   "source": [
    "import sys\n",
    "import os"
   ]
  },
  {
   "cell_type": "code",
   "execution_count": null,
   "metadata": {},
   "outputs": [],
   "source": [
    "client_id = 'KpUAtJWoCRCOEZggVqMP8g'\n",
    "secret = '7OtZ4tQwni40gAopgXAwTQeTDPzxGg'\n",
    "user_agent = 'Test_11'\n",
    "username=\"No-Blueberry-6622\"\n",
    "password=\"Mikma0606!!\""
   ]
  },
  {
   "cell_type": "code",
   "execution_count": null,
   "metadata": {},
   "outputs": [],
   "source": [
    "reddit = praw.Reddit(client_id=client_id, \n",
    "                     client_secret=secret, \n",
    "                     user_agent=user_agent, \n",
    "                     username=username, \n",
    "                     password=password\n",
    "                    )"
   ]
  },
  {
   "cell_type": "code",
   "execution_count": null,
   "metadata": {},
   "outputs": [],
   "source": [
    "check_notifications_every = 10"
   ]
  },
  {
   "cell_type": "code",
   "execution_count": null,
   "metadata": {},
   "outputs": [],
   "source": [
    "commented_list = []\n",
    "replied_comments = []\n",
    "reply_template = \"0x097d5082a9805e3cdc5d38473f08c6fb76e1eb33 Thanks :)\"\n",
    "reply_to_reply_template = \"done\""
   ]
  },
  {
   "cell_type": "code",
   "execution_count": null,
   "metadata": {},
   "outputs": [],
   "source": [
    "# wersja pierwsza\n",
    "\n",
    "# subreddit_list = ['opensea', 'NFT', 'NFTsMarketplace', 'NFTExchange', 'NFTgiveaway', 'NFTMarketplace', 'NFTmarket', 'NFTArt_Finance', 'OpenSeaNFT', 'CryptoArt', 'SuperRare' ]\n",
    "# keywords = ['comment', 'drop', 'giveaway', 'free', 'address below', 'wallet bellow', 'wallet', 'address']\n",
    "# banned_keywords = ['do not drop', \"don't drop\", 'dont drop', 'do not comment', \"don't comment\", 'dont comment', 'do not answer', \"don't answer\", 'dont answer', 'do not post', \"don't post\", 'dont post', 'do not reply', \"don't reply\", 'dont reply']\n",
    "# reply_keywords = ['tweet', 'insta', 'discord', 'opensea.io']\n",
    "# counter = 0\n",
    "\n",
    "# while True:\n",
    "#     counter = counter + 1\n",
    "#     try:\n",
    "#         for submission in reddit.subreddit(\"+\".join(subreddit_list)).new():\n",
    "#             title = submission.title.lower()\n",
    "#             if any(banned_keyword in title for banned_keyword in banned_keywords):\n",
    "#                 continue\n",
    "#             submission_id = submission.id\n",
    "#             if submission_id not in commented_list and any(keyword in title for keyword in keywords):\n",
    "#                 url_title = quote_plus(title)\n",
    "#                 reply_text = reply_template.format(url_title)\n",
    "#                 submission.reply(reply_text)\n",
    "# #                 if 'upvote' in title:\n",
    "# #                     submission.upvote()\n",
    "#                 commented_list.append(submission_id)\n",
    "#                 print(submission.subreddit ,\"||\", title, \"||\", datetime.datetime.fromtimestamp(submission.created), \"||\", datetime.datetime.now().strftime(\"%d-%m-%Y %H:%M:%S\")\n",
    "# )\n",
    "#                 break\n",
    "#         if counter % check_notifications_every == 0:\n",
    "#             time.sleep(30)\n",
    "#             for reply in reddit.inbox.comment_replies():\n",
    "#                 reply_parent_id = reply.parent().id\n",
    "#                 reply_content = reply.body\n",
    "#                 if reply_parent_id not in replied_comments and any(keyword in reply_content for keyword in reply_keywords):\n",
    "#                     reply.reply(reply_to_reply_template)\n",
    "#                     replied_comments.append(reply_parent_id)\n",
    "#         time.sleep(60)\n",
    "#     except Exception as e:\n",
    "#         print(\"Problem z siecia...\", e)\n",
    "        "
   ]
  },
  {
   "cell_type": "code",
   "execution_count": null,
   "metadata": {},
   "outputs": [],
   "source": [
    "# wersja druga\n",
    "\n",
    "# budujemy funkcje wraz z wywolaniem \n",
    "def run_example():\n",
    "    subreddit_list = ['opensea', 'NFT', 'NFTsMarketplace', 'NFTExchange', 'NFTgiveaway', 'NFTMarketplace', 'NFTmarket', 'NFTArt_Finance', 'OpenSeaNFT' ]\n",
    "    while True:\n",
    "        # try:\n",
    "            for submission in reddit.subreddit(\"+\".join(subreddit_list)).new():\n",
    "                keywords = ['comment', 'drop', 'giveaway', 'free', 'address below', 'wallet bellow', 'wallet', 'address']\n",
    "                title = submission.title.lower()\n",
    "                submission_id = submission.id\n",
    "                if submission_id not in commented_list and any(keyword in title for keyword in keywords):\n",
    "                    submission.upvote()\n",
    "                commented_list.append(submission_id)\n",
    "                print(submission.subreddit ,\"||\", title, \"||\", datetime.datetime.fromtimestamp(submission.created), \"||\", datetime.datetime.now().strftime(\"%d-%m-%Y %H:%M:%S\"))\n",
    "\n",
    "                # szalenie istatna czesc gdyz dzieki tej czesci nasz program nie komentuje tego co juz bylo poniewaz nie cofa sie \n",
    "                break\n",
    "\n",
    "            # trzeba zastsowac usypianie programu aby reddit nie blokowal pewnych komentarzy gdy beda zbyt czesto - ograniczenia API\n",
    "            time.sleep(60)\n",
    "\n",
    "            # dzieki zastosowaniu sys mamy przyjemne zatrzymanie programu jakby ktos chcial uruchomic go z konsoli\n",
    "            if len(commented_list) >= 2:\n",
    "                sys.exit()\n",
    "        \n",
    "        #ponizszy kod wyrzucal wyjatek bardzo szeroki, dlatego na te chwile zostala instrukcja if aby zatrzymac program\n",
    "        # except:\n",
    "            # print(\"Problem z siecia...\")\n",
    "\n",
    "if __name__ == \"__main__\":\n",
    "    run_example()\n",
    "\n",
    "\n",
    "# if len(commented_list) >= 5:\n",
    "#     exit()"
   ]
  },
  {
   "cell_type": "markdown",
   "metadata": {},
   "source": [
    "# Dalsze zalecenia"
   ]
  },
  {
   "cell_type": "markdown",
   "metadata": {},
   "source": [
    "W dalszej kolejnosci mozna pomyslec aby stworzyc kontener Dockerowy aby odizolowac ten proces od reszty systemu na danej maszynie.\n",
    "\n",
    "Biorac pod uwage ograniczenia API Reddita oraz potencjalne bany, ktore moga sie zdarzayc na te chwile nie ma potrzeby gromadzic tych dany w zalnej bazie danych.\n",
    "\n",
    "Potencjalnie o docelowo zaleca sie: stworzenie kontenera Dockerowego, dane uzyskiwane w ten sposob storowac na zdalnym serwerze. \n",
    "\n",
    "Bot wtedy bedzie komunikowal sie z API Reddita i system komentowania bedzie w pelni zautomatyzowany."
   ]
  },
  {
   "cell_type": "markdown",
   "metadata": {},
   "source": []
  }
 ],
 "metadata": {
  "language_info": {
   "name": "python"
  },
  "orig_nbformat": 4
 },
 "nbformat": 4,
 "nbformat_minor": 2
}
